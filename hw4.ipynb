{
 "cells": [
  {
   "cell_type": "markdown",
   "metadata": {},
   "source": [
    "## Homework 4\n",
    "### Author: Maksym Tsapiv\n",
    "### Variant: 0"
   ]
  },
  {
   "cell_type": "markdown",
   "metadata": {},
   "source": [
    "## Understand the model. Explore baseline"
   ]
  },
  {
   "cell_type": "markdown",
   "metadata": {},
   "source": [
    "### 1.\n",
    " Open the model and read the code. Create monitor with total demand of all users for previous day. The idea of power generation is to generate the same amount users are demanding. Create adjustment procedure, so power plant will produce the mean amount of demanded power for previous 5 days (each tick max-power should be equal to mean-day-demand / 24). Create plot: total demand per day of all users with days as x-axis steps"
   ]
  },
  {
   "cell_type": "markdown",
   "metadata": {},
   "source": [
    "There are the results for the `random network` and `double-peaked` `users-demand` with 1 generator, 5 distribution stations and 100 users and `max-demand-users` 0.57.\n",
    "\n",
    "From the plot we can see that energy demand is pretty consistant."
   ]
  },
  {
   "cell_type": "markdown",
   "metadata": {},
   "source": [
    "![](imgs/3.png)\n",
    "![](imgs/2.png)\n",
    "![](imgs/1.png)"
   ]
  },
  {
   "cell_type": "markdown",
   "metadata": {},
   "source": [
    "### 2.\n",
    "Consider network with 1 plant, 5 distribution stations and 100 users. For three\n",
    "implemented network types explore how productivity (number of satisfied users) will\n",
    "change with grow of demands. Set stations to maximum levels (generation-capacity\n",
    "should change with user demands grow). Find threshold when more then 10% users will\n",
    "face power shutdown."
   ]
  },
  {
   "cell_type": "markdown",
   "metadata": {},
   "source": [
    "> * Random: `max demand` is .5 on the plots below.\n",
    ">\n",
    "> The threshold when more then 10% users will face power shutdown is 0.52-0.56 `max demand`.\n",
    ">\n",
    ">![](imgs/4.png)\n",
    ">\n",
    ">![](imgs/5.png)\n",
    ">\n",
    "\n",
    "\n",
    "> * Minimal:\n",
    ">\n",
    "> The threshold when more then 10% users will face power shutdown is 0.25 `max demand`.\n",
    ">\n",
    ">![](imgs/6.png)\n",
    ">\n",
    ">![](imgs/7.png)\n",
    ">\n",
    "\n",
    "\n",
    "\n",
    "> * Complete:\n",
    ">\n",
    "> The threshold when more then 10% users will face power shutdown is 0.6 `max demand`.\n",
    ">\n",
    ">![](imgs/8.png)\n",
    ">\n",
    ">![](imgs/9.png)\n",
    ">\n"
   ]
  },
  {
   "cell_type": "markdown",
   "metadata": {},
   "source": [
    "### 3.\n",
    "Analyze results. What you can say about network and how its connectivity influence the\n",
    "results."
   ]
  },
  {
   "cell_type": "markdown",
   "metadata": {},
   "source": [
    "From the reuslt above we can see that `random network` performs almost as the `complete network` but nowhere near the `minimal network` if we use `double peacked distribution` (I used it in the examples above) but for any of network types when I used `gaussian distibution` no matter what `max-demand` was the number of dissatisfied users were always > 10%, and reverse result was when I used `uniform distribution`: number of dissatisfied users were always < 10%. \n",
    "\n",
    "So, as the result we see that `minimal network` performed the worst of the 3, `random network` and `complete network` performed almost the same.\n",
    "\n"
   ]
  },
  {
   "cell_type": "markdown",
   "metadata": {},
   "source": [
    "## Generate own network"
   ]
  },
  {
   "cell_type": "markdown",
   "metadata": {},
   "source": [
    "### 0: preferential attachments"
   ]
  },
  {
   "cell_type": "markdown",
   "metadata": {},
   "source": [
    "### For your network implement metric calculations: APL, CC, mean betweenness of nodes, mean Closeness, EigenCentrality."
   ]
  }
 ],
 "metadata": {
  "language_info": {
   "name": "python"
  },
  "orig_nbformat": 4
 },
 "nbformat": 4,
 "nbformat_minor": 2
}
